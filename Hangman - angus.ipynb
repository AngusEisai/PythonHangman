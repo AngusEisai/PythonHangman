{
 "cells": [
  {
   "cell_type": "code",
   "execution_count": 2,
   "id": "f8ac62aa",
   "metadata": {},
   "outputs": [],
   "source": [
    "import numpy as np\n",
    "with open(\"./wordlist.txt\") as wordslist:\n",
    "    words = wordslist.readlines()\n",
    "new_words = []\n",
    "\n",
    "for word in words:\n",
    "    fixed_word = word.strip(\"\\n\")\n",
    "    new_words.append(fixed_word)\n",
    "game_word = np.random.choice(new_words)\n",
    "game_word\n",
    "user_word = [\"_\" for x in game_word]\n",
    "user_word\n",
    "lives = 5\n",
    "\n",
    "while \"_\" in user_word and lives > 0:\n",
    "    user_guess = input(f\"welcome to Hangman!\\nYou have {lives} lives\\nThis is your word {user_word}.\\nPlease make a guess:\\n\")\n",
    "    if user_guess in user_word:\n",
    "        print(\"you already guessed that letter\")\n",
    "    elif user_guess.lower() in game_word:\n",
    "        locs = [index for index, letter in enumerate(list(game_word)) if user_guess == letter]\n",
    "        for loc in locs: \n",
    "            user_word[loc] = user_guess\n",
    "    else:\n",
    "        print(\"you lost a life!\")\n",
    "        lives -= 1\n",
    "        user_guess = input(f\"welcome to Hangman!\\nYou have {lives} lives.\\nThis is your word {user_word}.\\nPlease make a guess:\\n\")\n",
    "\n",
    "if \"_\" not in user_word:\n",
    "    print(\"Nice one, you won!\\nYou are so cool.\")\n",
    "elif lives == 0:\n",
    "    print(\"wtf, that was terrible, you must be Sam?\")\n",
    "else:\n",
    "    print(\"something has gone wrong\")"
   ]
  },
  {
   "cell_type": "code",
   "execution_count": null,
   "id": "c8c2b03b",
   "metadata": {},
   "outputs": [],
   "source": []
  }
 ],
 "metadata": {
  "kernelspec": {
   "display_name": "Python 3.9.7 64-bit",
   "language": "python",
   "name": "python3"
  },
  "language_info": {
   "codemirror_mode": {
    "name": "ipython",
    "version": 3
   },
   "file_extension": ".py",
   "mimetype": "text/x-python",
   "name": "python",
   "nbconvert_exporter": "python",
   "pygments_lexer": "ipython3",
   "version": "3.9.7"
  },
  "vscode": {
   "interpreter": {
    "hash": "5f0f4dbb9da9c6bf8b90ca66c9f845758bc51561d40c3aa9e800cadb7842f0a0"
   }
  }
 },
 "nbformat": 4,
 "nbformat_minor": 5
}
